{
 "cells": [
  {
   "cell_type": "markdown",
   "metadata": {},
   "source": [
    "# BioSTEAM User Guide Tutorial - Beginner's Guide\n",
    "this runs in Ubuntu 22.04.2 LTS on WSL2, Python 3.10.12\\\n",
    "install BioSTEAM with 'pip install biosteam'\\\n",
    "see https://biosteam.readthedocs.io/en/latest/tutorial/index.html\n",
    "\n",
    "## 7. Preferences\n",
    "see https://biosteam.readthedocs.io/en/latest/tutorial/Preferences.html"
   ]
  },
  {
   "cell_type": "markdown",
   "metadata": {},
   "source": [
    "Stream data can be displayed in different units of measure. As an example, here we show a stream’s flow in kg/hr, temperature in Celcius, and pressure in bar:"
   ]
  },
  {
   "cell_type": "code",
   "execution_count": 2,
   "metadata": {},
   "outputs": [
    {
     "name": "stdout",
     "output_type": "stream",
     "text": [
      "Stream: sugarcane to <ConveyingBelt: U101>\n",
      "phase: 'l', T: 25 degC, P: 1.01325 bar\n",
      "composition (%): Water          70\n",
      "                 Glucose        1.21\n",
      "                 Sucrose        13.7\n",
      "                 Ash            0.6\n",
      "                 Cellulose      6.12\n",
      "                 Hemicellulose  3.61\n",
      "                 Lignin         3.28\n",
      "                 Solids         1.5\n",
      "                 -------------  3.33e+05 kg/hr\n"
     ]
    }
   ],
   "source": [
    "from biorefineries import sugarcane as sc\n",
    "import biosteam as bst\n",
    "bst.nbtutorial() # Light-mode html diagrams, filter warnings, and reset preferences\n",
    "sc.sugarcane.show(\n",
    "    flow='kg/hr', T='degC', P='bar', # Change units of measure\n",
    "    composition=True, # Show as fractions\n",
    "    N=100, # Total number of components to show\n",
    ")"
   ]
  },
  {
   "cell_type": "markdown",
   "metadata": {},
   "source": [
    "We can make this the default through the preferences object:"
   ]
  },
  {
   "cell_type": "code",
   "execution_count": 3,
   "metadata": {},
   "outputs": [
    {
     "name": "stdout",
     "output_type": "stream",
     "text": [
      "Stream: sugarcane to <ConveyingBelt: U101>\n",
      "phase: 'l', T: 25 degC, P: 1.01325 bar\n",
      "composition (%): Water          70\n",
      "                 Glucose        1.21\n",
      "                 Sucrose        13.7\n",
      "                 Ash            0.6\n",
      "                 Cellulose      6.12\n",
      "                 Hemicellulose  3.61\n",
      "                 Lignin         3.28\n",
      "                 Solids         1.5\n",
      "                 -------------  3.33e+05 kg/hr\n"
     ]
    }
   ],
   "source": [
    "import biosteam as bst\n",
    "bst.preferences.update(flow='kg/hr', T='degC', P='bar', N=100, composition=True)\n",
    "sc.sugarcane.show() # Notice how the default style has been updated"
   ]
  },
  {
   "cell_type": "markdown",
   "metadata": {},
   "source": [
    "We can save preferences to not have to update it in later sessions (it will autoload when you restart Python):"
   ]
  },
  {
   "cell_type": "code",
   "execution_count": 4,
   "metadata": {},
   "outputs": [],
   "source": [
    "# bst.preferences.save()"
   ]
  },
  {
   "cell_type": "markdown",
   "metadata": {},
   "source": [
    "We can also reset all preferences back to the default:"
   ]
  },
  {
   "cell_type": "code",
   "execution_count": 5,
   "metadata": {},
   "outputs": [
    {
     "name": "stdout",
     "output_type": "stream",
     "text": [
      "Stream: sugarcane to <ConveyingBelt: U101>\n",
      "phase: 'l', T: 298.15 K, P: 101325 Pa\n",
      "flow (kmol/hr): Water          1.3e+04\n",
      "                Glucose        22.4\n",
      "                Sucrose        133\n",
      "                Ash            2e+03\n",
      "                Cellulose      126\n",
      "                Hemicellulose  91\n",
      "                Lignin         71.8\n",
      "                ...            5e+03\n"
     ]
    }
   ],
   "source": [
    "bst.preferences.reset()\n",
    "sc.sugarcane.show() # Notice how the default style has been reset"
   ]
  },
  {
   "cell_type": "markdown",
   "metadata": {},
   "source": [
    "## 7.2. Diagram display preferences"
   ]
  },
  {
   "cell_type": "markdown",
   "metadata": {},
   "source": []
  }
 ],
 "metadata": {
  "kernelspec": {
   "display_name": "biosteam",
   "language": "python",
   "name": "python3"
  },
  "language_info": {
   "codemirror_mode": {
    "name": "ipython",
    "version": 3
   },
   "file_extension": ".py",
   "mimetype": "text/x-python",
   "name": "python",
   "nbconvert_exporter": "python",
   "pygments_lexer": "ipython3",
   "version": "3.10.12"
  }
 },
 "nbformat": 4,
 "nbformat_minor": 2
}
