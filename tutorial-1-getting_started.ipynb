{
 "cells": [
  {
   "attachments": {},
   "cell_type": "markdown",
   "metadata": {},
   "source": [
    "# BioSTEAM User Guide Tutorial - Beginner's Guide\n",
    "this runs in Ubuntu 22.04.2 LTS on WSL2, Python 3.10.12\\\n",
    "install BioSTEAM with 'pip install biosteam'\\\n",
    "see https://biosteam.readthedocs.io/en/latest/tutorial/index.html\n",
    "\n",
    "## 1. Getting Started\n",
    "see https://biosteam.readthedocs.io/en/latest/tutorial/Getting_started.html\n",
    "\n",
    "### Create a Stream object"
   ]
  },
  {
   "cell_type": "code",
   "execution_count": 2,
   "metadata": {},
   "outputs": [
    {
     "name": "stdout",
     "output_type": "stream",
     "text": [
      "Stream: s1\n",
      "phase: 'l', T: 298.15 K, P: 101325 Pa\n",
      "flow (kmol/hr): Water     50\n",
      "                Methanol  20\n"
     ]
    }
   ],
   "source": [
    "import biosteam as bst\n",
    "from biosteam import settings\n",
    "bst.nbtutorial() # Light-mode html diagrams and filter warnings\n",
    "settings.set_thermo(['Water', 'Methanol'])\n",
    "# set flow rates in kmol/h\n",
    "feed = bst.Stream(Water=50, Methanol=20)\n",
    "feed.show()"
   ]
  },
  {
   "attachments": {},
   "cell_type": "markdown",
   "metadata": {},
   "source": [
    "Set prices for performing techno-economic analysis later:"
   ]
  },
  {
   "cell_type": "code",
   "execution_count": 3,
   "metadata": {},
   "outputs": [
    {
     "data": {
      "text/plain": [
       "231.24018"
      ]
     },
     "execution_count": 3,
     "metadata": {},
     "output_type": "execute_result"
    }
   ],
   "source": [
    "feed.price = 0.15 # USD/kg\n",
    "feed.cost # USD/hr"
   ]
  },
  {
   "attachments": {},
   "cell_type": "markdown",
   "metadata": {},
   "source": [
    "Set the chemical engineering plant cost index:"
   ]
  },
  {
   "cell_type": "code",
   "execution_count": 4,
   "metadata": {},
   "outputs": [],
   "source": [
    "settings.CEPCI # Default year is 2017\n",
    "settings.electricity_price = 0.065 # Adjust price"
   ]
  },
  {
   "attachments": {},
   "cell_type": "markdown",
   "metadata": {},
   "source": [
    "Set HeatUtility options via UtilityAgent objects (Stream objects with additional attributes):"
   ]
  },
  {
   "cell_type": "code",
   "execution_count": 5,
   "metadata": {},
   "outputs": [
    {
     "name": "stdout",
     "output_type": "stream",
     "text": [
      "UtilityAgent: cooling_water\n",
      "heat_transfer_efficiency: 1.000\n",
      "heat_transfer_price: 0 USD/kJ\n",
      "regeneration_price: 0.000488 USD/kmol\n",
      "T_limit: 325 K\n",
      "phase: 'l'\n",
      "T: 305.37 K\n",
      "P: 101325 Pa\n",
      "flow (kmol/hr): Water  1\n"
     ]
    },
    {
     "data": {
      "text/plain": [
       "0.00048785"
      ]
     },
     "execution_count": 5,
     "metadata": {},
     "output_type": "execute_result"
    }
   ],
   "source": [
    "# show all available cooling agents\n",
    "settings.cooling_agents\n",
    "cooling_water = settings.get_cooling_agent('cooling_water')\n",
    "# show the UtilityAgent\n",
    "cooling_water.show()\n",
    "# set price of regenerating the utility in USD/kmol\n",
    "cooling_water.regeneration_price"
   ]
  },
  {
   "cell_type": "markdown",
   "metadata": {},
   "source": [
    "Find design requirements and cost with Unit objects:"
   ]
  },
  {
   "cell_type": "code",
   "execution_count": 6,
   "metadata": {},
   "outputs": [
    {
     "name": "stdout",
     "output_type": "stream",
     "text": [
      "Flash: F1\n",
      "ins...\n",
      "[0] s1  \n",
      "    phase: 'l', T: 298.15 K, P: 101325 Pa\n",
      "    flow (kmol/hr): Water     50\n",
      "                    Methanol  20\n",
      "outs...\n",
      "[0] s2  \n",
      "    phase: 'l', T: 298.15 K, P: 101325 Pa\n",
      "    flow: 0\n",
      "[1] s3  \n",
      "    phase: 'l', T: 298.15 K, P: 101325 Pa\n",
      "    flow: 0\n"
     ]
    }
   ],
   "source": [
    "# create a Flash object\n",
    "# Specify vapor fraction and isobaric conditions\n",
    "F1 = bst.Flash('F1', ins=feed, V=0.1, P=101325)\n",
    "F1.show()\n",
    "# Note that the outlets, outs, is populated by empty streams."
   ]
  },
  {
   "cell_type": "code",
   "execution_count": 7,
   "metadata": {},
   "outputs": [
    {
     "name": "stdout",
     "output_type": "stream",
     "text": [
      "Flash: F1\n",
      "ins...\n",
      "[0] s1  \n",
      "    phase: 'l', T: 298.15 K, P: 101325 Pa\n",
      "    flow (kmol/hr): Water     50\n",
      "                    Methanol  20\n",
      "outs...\n",
      "[0] s2  \n",
      "    phase: 'g', T: 352.84 K, P: 101325 Pa\n",
      "    flow (kmol/hr): Water     2.59\n",
      "                    Methanol  4.41\n",
      "[1] s3  \n",
      "    phase: 'l', T: 352.84 K, P: 101325 Pa\n",
      "    flow (kmol/hr): Water     47.4\n",
      "                    Methanol  15.6\n"
     ]
    }
   ],
   "source": [
    "# To simulate the flash, use the simulate method:\n",
    "F1.simulate()\n",
    "F1.show()"
   ]
  },
  {
   "cell_type": "code",
   "execution_count": 22,
   "metadata": {},
   "outputs": [
    {
     "ename": "SyntaxError",
     "evalue": "invalid syntax. Perhaps you forgot a comma? (2591885501.py, line 3)",
     "output_type": "error",
     "traceback": [
      "\u001b[0;36m  Cell \u001b[0;32mIn[22], line 3\u001b[0;36m\u001b[0m\n\u001b[0;31m    F1.results() # Default returns DataFrame object with units\u001b[0m\n\u001b[0m    ^\u001b[0m\n\u001b[0;31mSyntaxError\u001b[0m\u001b[0;31m:\u001b[0m invalid syntax. Perhaps you forgot a comma?\n"
     ]
    }
   ],
   "source": [
    "# The results method returns simulation results:\n",
    "display(\n",
    "    F1.results(), # Default returns DataFrame object with units\n",
    "    F1.net_duty, # Duty with heat transfer losses [kJ / hr]\n",
    "    F1.net_power, # Electricity consumption [kW]\n",
    "    [F1.feed, F1.vapor, F1.liquid] # Inlet feed and vapor and liquid outlets\n",
    ")"
   ]
  },
  {
   "attachments": {},
   "cell_type": "markdown",
   "metadata": {},
   "source": [
    "Design a chemical process consisting of a flash with a partial liquid recycle:"
   ]
  },
  {
   "cell_type": "code",
   "execution_count": 8,
   "metadata": {},
   "outputs": [
    {
     "data": {
      "text/html": [
       "\n",
       "        <iframe\n",
       "            width=\"100%\"\n",
       "            height=\"400px\"\n",
       "            src=\"data:text/html;charset=utf-8,%3C%21DOCTYPE%20html%3E%3Chtml%3E%3Chead%3E%3Clink%20rel%3D%22stylesheet%22%20href%3D%22https%3A//unpkg.com/tippy.js%406.3.7/themes/translucent.css%22%3E%3Clink%20rel%3D%22stylesheet%22%20href%3D%22https%3A//rawcdn.githack.com/BioSTEAMDevelopmentGroup/biosteam/e065aca079c216d72b75949bbcbb74a3bbddb75d/biosteam/digraph/digraph.css%22%3E%3Cscript%20src%3D%22https%3A//unpkg.com/%40popperjs/core%402%22%3E%3C/script%3E%3Cscript%20src%3D%22https%3A//unpkg.com/tippy.js%406%22%3E%3C/script%3E%3Cscript%20src%3D%22https%3A//rawcdn.githack.com/BioSTEAMDevelopmentGroup/biosteam/e065aca079c216d72b75949bbcbb74a3bbddb75d/biosteam/digraph/digraph.js%22%3E%3C/script%3E%3C/head%3E%3Cbody%3E%3Csvg%20width%3D%22706pt%22%20height%3D%22233pt%22%20viewBox%3D%220.00%200.00%20706.30%20232.74%22%3E%0A%3Cg%20id%3D%22graph0%22%20class%3D%22graph%22%20transform%3D%22scale%281%201%29%20rotate%280%29%20translate%284%20228.74%29%22%3E%0A%3Cpolygon%20fill%3D%22%23ffffff%22%20fill-opacity%3D%220.666667%22%20stroke%3D%22transparent%22%20points%3D%22-4%2C4%20-4%2C-228.74%20702.3%2C-228.74%20702.3%2C4%20-4%2C4%22%3E%3C/polygon%3E%0A%0A%3Cg%20id%3D%22edge2%22%20class%3D%22edge%22%20data-tippy-content%3D%22%28empty%29%22%3E%0A%3Cpath%20fill%3D%22none%22%20stroke%3D%22%234e4e4e%22%20stroke-dasharray%3D%225%2C2%22%20d%3D%22M199.42%2C-62.74C216.26%2C-62.74%20231.17%2C-72.21%20243.17%2C-83.92%22%3E%3C/path%3E%0A%3Cpolygon%20fill%3D%22%234e4e4e%22%20stroke%3D%22%234e4e4e%22%20points%3D%22240.85%2C-86.57%20250.26%2C-91.44%20245.95%2C-81.76%20240.85%2C-86.57%22%3E%3C/polygon%3E%0A%3Cg%20id%3D%22a_edge2-label%22%3E%3Ca%20title%3D%22%28empty%29%22%3E%0A%3Ctext%20text-anchor%3D%22middle%22%20x%3D%22216.92%22%20y%3D%22-73.54%22%20font-family%3D%22Arial%22%20font-size%3D%2214.00%22%20fill%3D%22%234e4e4e%22%3E%20s4%3C/text%3E%0A%3C/a%3E%0A%3C/g%3E%0A%3C/g%3E%0A%0A%3Cg%20id%3D%22edge5%22%20class%3D%22edge%22%20data-tippy-content%3D%22%28empty%29%22%3E%0A%3Cpath%20fill%3D%22none%22%20stroke%3D%22%234e4e4e%22%20stroke-dasharray%3D%225%2C2%22%20d%3D%22M275.42%2C-87.74C275.42%2C-57.69%20368.26%2C-54.17%20409.33%2C-53.78%22%3E%3C/path%3E%0A%3Cpolygon%20fill%3D%22%234e4e4e%22%20stroke%3D%22%234e4e4e%22%20points%3D%22409.44%2C-57.28%20419.42%2C-53.74%20409.41%2C-50.28%20409.44%2C-57.28%22%3E%3C/polygon%3E%0A%3Cg%20id%3D%22a_edge5-label%22%3E%3Ca%20title%3D%22%28empty%29%22%3E%0A%3Ctext%20text-anchor%3D%22middle%22%20x%3D%22367.92%22%20y%3D%22-64.54%22%20font-family%3D%22Arial%22%20font-size%3D%2214.00%22%20fill%3D%22%234e4e4e%22%3E%20liquid%3C/text%3E%0A%3C/a%3E%0A%3C/g%3E%0A%3C/g%3E%0A%0A%3Cg%20id%3D%22edge3%22%20class%3D%22edge%22%20data-tippy-content%3D%22%28empty%29%22%3E%0A%3Cpath%20fill%3D%22none%22%20stroke%3D%22%234e4e4e%22%20stroke-dasharray%3D%225%2C2%22%20d%3D%22M275.42%2C-167.74C275.42%2C-267.05%20399.55%2C-166.74%20498.86%2C-166.74%22%3E%3C/path%3E%0A%3Cg%20id%3D%22a_edge3-label%22%3E%3Ca%20title%3D%22%28empty%29%22%3E%0A%3Ctext%20text-anchor%3D%22middle%22%20x%3D%22367.92%22%20y%3D%22-213.54%22%20font-family%3D%22Arial%22%20font-size%3D%2214.00%22%20fill%3D%22%234e4e4e%22%3E%20vapor%20product%3C/text%3E%0A%3C/a%3E%0A%3C/g%3E%0A%3C/g%3E%0A%0A%3Cg%20id%3D%22edge1%22%20class%3D%22edge%22%20data-tippy-content%3D%22%28empty%29%22%3E%0A%3Cpath%20fill%3D%22none%22%20stroke%3D%22%234e4e4e%22%20stroke-dasharray%3D%225%2C2%22%20d%3D%22M423.66%2C-51.87C364.28%2C-51.03%20280.63%2C-51.09%20207.42%2C-55.74%20204.57%2C-55.92%20201.66%2C-56.12%20198.72%2C-56.33%22%3E%3C/path%3E%0A%3Cpolygon%20fill%3D%22%234e4e4e%22%20stroke%3D%22%234e4e4e%22%20points%3D%22198.37%2C-52.85%20188.66%2C-57.1%20198.9%2C-59.83%20198.37%2C-52.85%22%3E%3C/polygon%3E%0A%3Cg%20id%3D%22a_edge1-label%22%3E%3Ca%20title%3D%22%28empty%29%22%3E%0A%3Ctext%20text-anchor%3D%22middle%22%20x%3D%22275.42%22%20y%3D%22-58.54%22%20font-family%3D%22Arial%22%20font-size%3D%2214.00%22%20fill%3D%22%234e4e4e%22%3E%20liquid%20recycle%3C/text%3E%0A%3C/a%3E%0A%3C/g%3E%0A%3C/g%3E%0A%0A%3Cg%20id%3D%22edge6%22%20class%3D%22edge%22%20data-tippy-content%3D%22%28empty%29%22%3E%0A%3Cpath%20fill%3D%22none%22%20stroke%3D%22%234e4e4e%22%20stroke-dasharray%3D%225%2C2%22%20d%3D%22M544.63%2C-53.74C582.1%2C-53.74%20639.19%2C-53.74%20688.8%2C-53.74%22%3E%3C/path%3E%0A%3Cg%20id%3D%22a_edge6-label%22%3E%3Ca%20title%3D%22%28empty%29%22%3E%0A%3Ctext%20text-anchor%3D%22middle%22%20x%3D%22636.8%22%20y%3D%22-57.54%22%20font-family%3D%22Arial%22%20font-size%3D%2214.00%22%20fill%3D%22%234e4e4e%22%3E%20liquid%20product%3C/text%3E%0A%3C/a%3E%0A%3C/g%3E%0A%3C/g%3E%0A%0A%3Cg%20id%3D%22edge4%22%20class%3D%22edge%22%20data-tippy-content%3D%22Temperature%3A%20298.15%20K%3Cbr%26gt%3BPressure%3A%20101325%20Pa%3Cbr%26gt%3BLiquid%20flow%3A%20550%20kmol/hr%22%3E%0A%3Cpath%20fill%3D%22none%22%20stroke%3D%22%234e4e4e%22%20d%3D%22M11%2C-62.74C38.66%2C-62.74%2070%2C-62.74%2093.24%2C-62.74%22%3E%3C/path%3E%0A%3Cg%20id%3D%22a_edge4-label%22%3E%3Ca%20title%3D%22%20Temperature%3A%20298.15%20K%3Cbr%26gt%3BPressure%3A%20101325%20Pa%3Cbr%26gt%3BLiquid%20flow%3A%20550%20kmol/hr%22%3E%0A%3Ctext%20text-anchor%3D%22middle%22%20x%3D%2234.5%22%20y%3D%22-66.54%22%20font-family%3D%22Arial%22%20font-size%3D%2214.00%22%20fill%3D%22%234e4e4e%22%3E%20feed%3C/text%3E%0A%3C/a%3E%0A%3C/g%3E%0A%3C/g%3E%0A%0A%3Cg%20id%3D%22node1%22%20class%3D%22node%22%20data-tippy-content%3D%22No%20capital%20costs%20or%20utilities%22%3E%0A%3Cg%20id%3D%22a_node1%22%3E%3Ca%20title%3D%22%20No%20capital%20costs%20or%20utilities%22%3E%0A%3Cdefs%3E%0A%3ClinearGradient%20id%3D%22l_0%22%20gradientUnits%3D%22userSpaceOnUse%22%20x1%3D%2293.25%22%20y1%3D%22-62.74%22%20x2%3D%22199.63%22%20y2%3D%22-62.74%22%3E%0A%3Cstop%20offset%3D%220%22%20style%3D%22stop-color%3Awhite%3Bstop-opacity%3A1.%3B%22%3E%3C/stop%3E%0A%3Cstop%20offset%3D%221%22%20style%3D%22stop-color%3A%23cdcdcd%3Bstop-opacity%3A1.%3B%22%3E%3C/stop%3E%0A%3C/linearGradient%3E%0A%3C/defs%3E%0A%3Cpolygon%20fill%3D%22url%28%23l_0%29%22%20stroke%3D%22%234e4e4e%22%20points%3D%22199.63%2C-62.74%2093.25%2C-116.72%2093.25%2C-8.76%20199.63%2C-62.74%22%3E%3C/polygon%3E%0A%3Ctext%20text-anchor%3D%22middle%22%20x%3D%22128.71%22%20y%3D%22-66.54%22%20font-family%3D%22Arial%22%20font-size%3D%2214.00%22%3EM1%3C/text%3E%0A%3Ctext%20text-anchor%3D%22middle%22%20x%3D%22128.71%22%20y%3D%22-51.54%22%20font-family%3D%22Arial%22%20font-size%3D%2214.00%22%3EMixer%3C/text%3E%0A%3C/a%3E%0A%3C/g%3E%0A%3C/g%3E%0A%0A%3Cg%20id%3D%22node2%22%20class%3D%22node%22%20data-tippy-content%3D%22No%20capital%20costs%20or%20utilities%22%3E%0A%3Cg%20id%3D%22a_node2%22%3E%3Ca%20title%3D%22%20No%20capital%20costs%20or%20utilities%22%3E%0A%3Cdefs%3E%0A%3ClinearGradient%20id%3D%22l_1%22%20gradientUnits%3D%22userSpaceOnUse%22%20x1%3D%22250.42%22%20y1%3D%22-127.74%22%20x2%3D%22300.42%22%20y2%3D%22-127.74%22%3E%0A%3Cstop%20offset%3D%220%22%20style%3D%22stop-color%3Awhite%3Bstop-opacity%3A1.%3B%22%3E%3C/stop%3E%0A%3Cstop%20offset%3D%221%22%20style%3D%22stop-color%3A%23cdcdcd%3Bstop-opacity%3A1.%3B%22%3E%3C/stop%3E%0A%3C/linearGradient%3E%0A%3C/defs%3E%0A%3Cpolygon%20fill%3D%22url%28%23l_1%29%22%20stroke%3D%22%234e4e4e%22%20points%3D%22300.42%2C-167.24%20250.42%2C-167.24%20250.42%2C-88.24%20300.42%2C-88.24%20300.42%2C-167.24%22%3E%3C/polygon%3E%0A%3Ctext%20text-anchor%3D%22middle%22%20x%3D%22275.42%22%20y%3D%22-131.54%22%20font-family%3D%22Arial%22%20font-size%3D%2214.00%22%3EF1%3C/text%3E%0A%3Ctext%20text-anchor%3D%22middle%22%20x%3D%22275.42%22%20y%3D%22-116.54%22%20font-family%3D%22Arial%22%20font-size%3D%2214.00%22%3EFlash%3C/text%3E%0A%3C/a%3E%0A%3C/g%3E%0A%3C/g%3E%0A%0A%3Cg%20id%3D%22node3%22%20class%3D%22node%22%20data-tippy-content%3D%22No%20capital%20costs%20or%20utilities%22%3E%0A%3Cg%20id%3D%22a_node3%22%3E%3Ca%20title%3D%22%20No%20capital%20costs%20or%20utilities%22%3E%0A%3Cdefs%3E%0A%3ClinearGradient%20id%3D%22l_2%22%20gradientUnits%3D%22userSpaceOnUse%22%20x1%3D%22419.48%22%20y1%3D%22-53.74%22%20x2%3D%22544.55%22%20y2%3D%22-53.74%22%3E%0A%3Cstop%20offset%3D%220%22%20style%3D%22stop-color%3Awhite%3Bstop-opacity%3A1.%3B%22%3E%3C/stop%3E%0A%3Cstop%20offset%3D%221%22%20style%3D%22stop-color%3A%23cdcdcd%3Bstop-opacity%3A1.%3B%22%3E%3C/stop%3E%0A%3C/linearGradient%3E%0A%3C/defs%3E%0A%3Cpolygon%20fill%3D%22url%28%23l_2%29%22%20stroke%3D%22%234e4e4e%22%20points%3D%22419.48%2C-53.74%20544.55%2C0.24%20544.55%2C-107.72%20419.48%2C-53.74%22%3E%3C/polygon%3E%0A%3Ctext%20text-anchor%3D%22middle%22%20x%3D%22502.86%22%20y%3D%22-57.54%22%20font-family%3D%22Arial%22%20font-size%3D%2214.00%22%3ES1%3C/text%3E%0A%3Ctext%20text-anchor%3D%22middle%22%20x%3D%22502.86%22%20y%3D%22-42.54%22%20font-family%3D%22Arial%22%20font-size%3D%2214.00%22%3ESplitter%3C/text%3E%0A%3C/a%3E%0A%3C/g%3E%0A%3C/g%3E%0A%0A%3Cg%20id%3D%22node4%22%20class%3D%22node%22%20data-tippy-content%3D%228735365416391%22%3E%0A%3Cpolygon%20fill%3D%22%23f98f60%22%20stroke%3D%22%234e4e4e%22%20points%3D%22508.36%2C-166.74%20500.11%2C-173.74%20500.11%2C-159.74%20508.36%2C-166.74%22%3E%3C/polygon%3E%0A%3C/g%3E%0A%0A%3Cg%20id%3D%22node5%22%20class%3D%22node%22%20data-tippy-content%3D%228735472851267%22%3E%0A%3Cpolygon%20fill%3D%22%23f98f60%22%20stroke%3D%22%234e4e4e%22%20points%3D%225.5%2C-68.24%200%2C-62.74%205.5%2C-57.24%2011%2C-62.74%205.5%2C-68.24%22%3E%3C/polygon%3E%0A%3C/g%3E%0A%0A%3Cg%20id%3D%22node6%22%20class%3D%22node%22%20data-tippy-content%3D%228735472956012%22%3E%0A%3Cpolygon%20fill%3D%22%23f98f60%22%20stroke%3D%22%234e4e4e%22%20points%3D%22698.3%2C-53.74%20690.05%2C-60.74%20690.05%2C-46.74%20698.3%2C-53.74%22%3E%3C/polygon%3E%0A%3C/g%3E%0A%3C/g%3E%0A%3C/svg%3E%3C/body%3E%3C/html%3E\"\n",
       "            frameborder=\"0\"\n",
       "            allowfullscreen\n",
       "            allowtransparency=\"true\"\n",
       "        ></iframe>\n",
       "        "
      ],
      "text/plain": [
       "<IPython.lib.display.IFrame at 0x7f1e2c3018a0>"
      ]
     },
     "metadata": {},
     "output_type": "display_data"
    },
    {
     "name": "stdout",
     "output_type": "stream",
     "text": [
      "System: sys\n",
      "ins...\n",
      "[0] feed  \n",
      "    phase: 'l', T: 298.15 K, P: 101325 Pa\n",
      "    flow (kmol/hr): Water     450\n",
      "                    Methanol  100\n",
      "outs...\n",
      "[0] vapor_product  \n",
      "    phase: 'l', T: 298.15 K, P: 101325 Pa\n",
      "    flow: 0\n",
      "[1] liquid_product  \n",
      "    phase: 'l', T: 298.15 K, P: 101325 Pa\n",
      "    flow: 0\n"
     ]
    }
   ],
   "source": [
    "recycle = bst.Stream('liquid_recycle')\n",
    "feed = bst.Stream('feed', Methanol=100, Water=450)\n",
    "M1 = bst.Mixer('M1', ins=(recycle, feed))\n",
    "F1 = bst.Flash('F1',\n",
    "    ins=M1-0, # -pipe- notation equivalent to M1.outs[0]\n",
    "    outs=('vapor_product', 'liquid'),\n",
    "    V=0.1, P=101325\n",
    ")\n",
    "S1 = bst.Splitter('S1',\n",
    "    ins=F1-1, # -pipe- notation equivalent to F1.outs[1]\n",
    "    outs=(recycle, 'liquid_product'),\n",
    "    split=0.5 # Split to 0th output stream\n",
    ")\n",
    "# find unit operations and manage flowsheets\n",
    "bst.main_flowsheet.diagram()\n",
    "# create a system using the flowsheet:\n",
    "sys = bst.main_flowsheet.create_system('sys')\n",
    "sys.show()"
   ]
  },
  {
   "cell_type": "code",
   "execution_count": 9,
   "metadata": {},
   "outputs": [
    {
     "name": "stdout",
     "output_type": "stream",
     "text": [
      "System: sys\n",
      "Highest convergence error among components in recycle\n",
      "stream S1-0 after 4 loops:\n",
      "- flow rate   3.12e-01 kmol/hr (0.57%)\n",
      "- temperature 3.56e-02 K (0.0099%)\n",
      "ins...\n",
      "[0] feed  \n",
      "    phase: 'l', T: 298.15 K, P: 101325 Pa\n",
      "    flow (kmol/hr): Water     450\n",
      "                    Methanol  100\n",
      "outs...\n",
      "[0] vapor_product  \n",
      "    phase: 'g', T: 359.26 K, P: 101325 Pa\n",
      "    flow (kmol/hr): Water     53.4\n",
      "                    Methanol  46.7\n",
      "[1] liquid_product  \n",
      "    phase: 'l', T: 359.26 K, P: 101325 Pa\n",
      "    flow (kmol/hr): Water     397\n",
      "                    Methanol  53.6\n"
     ]
    }
   ],
   "source": [
    "# simulate\n",
    "sys.simulate()\n",
    "sys.show()"
   ]
  },
  {
   "cell_type": "markdown",
   "metadata": {},
   "source": [
    "Show system-level results"
   ]
  },
  {
   "cell_type": "code",
   "execution_count": 10,
   "metadata": {},
   "outputs": [
    {
     "data": {
      "text/html": [
       "<div>\n",
       "<style scoped>\n",
       "    .dataframe tbody tr th:only-of-type {\n",
       "        vertical-align: middle;\n",
       "    }\n",
       "\n",
       "    .dataframe tbody tr th {\n",
       "        vertical-align: top;\n",
       "    }\n",
       "\n",
       "    .dataframe thead th {\n",
       "        text-align: right;\n",
       "    }\n",
       "</style>\n",
       "<table border=\"1\" class=\"dataframe\">\n",
       "  <thead>\n",
       "    <tr style=\"text-align: right;\">\n",
       "      <th></th>\n",
       "      <th>System</th>\n",
       "      <th>Units</th>\n",
       "      <th>sys</th>\n",
       "    </tr>\n",
       "  </thead>\n",
       "  <tbody>\n",
       "    <tr>\n",
       "      <th rowspan=\"3\" valign=\"top\">Low pressure steam</th>\n",
       "      <th>Duty</th>\n",
       "      <td>kJ/hr</td>\n",
       "      <td>6.76e+06</td>\n",
       "    </tr>\n",
       "    <tr>\n",
       "      <th>Flow</th>\n",
       "      <td>kmol/hr</td>\n",
       "      <td>175</td>\n",
       "    </tr>\n",
       "    <tr>\n",
       "      <th>Cost</th>\n",
       "      <td>USD/hr</td>\n",
       "      <td>41.5</td>\n",
       "    </tr>\n",
       "    <tr>\n",
       "      <th>Total purchase cost</th>\n",
       "      <th></th>\n",
       "      <td>USD</td>\n",
       "      <td>3.64e+04</td>\n",
       "    </tr>\n",
       "    <tr>\n",
       "      <th>Installed equipment cost</th>\n",
       "      <th></th>\n",
       "      <td>USD</td>\n",
       "      <td>1.08e+05</td>\n",
       "    </tr>\n",
       "    <tr>\n",
       "      <th>Utility cost</th>\n",
       "      <th></th>\n",
       "      <td>USD/hr</td>\n",
       "      <td>41.5</td>\n",
       "    </tr>\n",
       "    <tr>\n",
       "      <th>Material cost</th>\n",
       "      <th></th>\n",
       "      <td>USD/hr</td>\n",
       "      <td>0</td>\n",
       "    </tr>\n",
       "    <tr>\n",
       "      <th>Sales</th>\n",
       "      <th></th>\n",
       "      <td>USD/hr</td>\n",
       "      <td>0</td>\n",
       "    </tr>\n",
       "  </tbody>\n",
       "</table>\n",
       "</div>"
      ],
      "text/plain": [
       "System                           Units      sys\n",
       "Low pressure steam       Duty    kJ/hr 6.76e+06\n",
       "                         Flow  kmol/hr      175\n",
       "                         Cost   USD/hr     41.5\n",
       "Total purchase cost                USD 3.64e+04\n",
       "Installed equipment cost           USD 1.08e+05\n",
       "Utility cost                    USD/hr     41.5\n",
       "Material cost                   USD/hr        0\n",
       "Sales                           USD/hr        0"
      ]
     },
     "execution_count": 10,
     "metadata": {},
     "output_type": "execute_result"
    }
   ],
   "source": [
    "sys.results()"
   ]
  },
  {
   "cell_type": "code",
   "execution_count": 11,
   "metadata": {},
   "outputs": [],
   "source": [
    "# this requires a graphical environment to create the flowchart.png file\n",
    "sys.save_report('Example.xlsx') # save report\n",
    "# Note that the cash flow analysis requires a TEA object with all the necessary parameters"
   ]
  }
 ],
 "metadata": {
  "kernelspec": {
   "display_name": "Python 3",
   "language": "python",
   "name": "python3"
  },
  "language_info": {
   "codemirror_mode": {
    "name": "ipython",
    "version": 3
   },
   "file_extension": ".py",
   "mimetype": "text/x-python",
   "name": "python",
   "nbconvert_exporter": "python",
   "pygments_lexer": "ipython3",
   "version": "3.10.12"
  },
  "orig_nbformat": 4
 },
 "nbformat": 4,
 "nbformat_minor": 2
}
