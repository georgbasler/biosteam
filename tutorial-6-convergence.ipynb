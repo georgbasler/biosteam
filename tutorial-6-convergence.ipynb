{
 "cells": [
  {
   "cell_type": "markdown",
   "metadata": {},
   "source": [
    "# BioSTEAM User Guide Tutorial - Beginner's Guide\n",
    "this runs in Ubuntu 22.04.2 LTS on WSL2, Python 3.10.12\\\n",
    "install BioSTEAM with 'pip install biosteam'\\\n",
    "see https://biosteam.readthedocs.io/en/latest/tutorial/index.html\n",
    "\n",
    "## 6. Convergence\n",
    "see https://biosteam.readthedocs.io/en/latest/tutorial/Convergence.html"
   ]
  },
  {
   "cell_type": "markdown",
   "metadata": {},
   "source": [
    "Here is a list of defaults recycle systems use:"
   ]
  },
  {
   "cell_type": "code",
   "execution_count": 7,
   "metadata": {},
   "outputs": [
    {
     "data": {
      "text/plain": [
       "'Aitken'"
      ]
     },
     "execution_count": 7,
     "metadata": {},
     "output_type": "execute_result"
    }
   ],
   "source": [
    "from biosteam import System\n",
    "System.default_maxiter # -> 200\n",
    "System.default_molar_tolerance # -> 1. [kmol/hr] for each component\n",
    "System.default_relative_molar_tolerance # -> 0.01\n",
    "System.default_temperature_tolerance # -> 0.10 [K]\n",
    "System.default_relative_temperature_tolerance # -> 0.001\n",
    "System.default_method # -> 'Aitken'\n",
    "# Changing any of these would change the default for\n",
    "# all new recycle systems you create.\n",
    "\n"
   ]
  },
  {
   "cell_type": "markdown",
   "metadata": {},
   "source": [
    "For a recycle system to converge, the difference between molar flow rate of the final and previous iteration must below either the relative or absolute molar tolerance (not both). Because the default molar tolarances are as wide as 1% or 0.01 kmol/hr, resimulating a system may give slightly different results in some cases. In the following example, we create a simple recycle loop consisting of a flash, a mixer, and a splitter:"
   ]
  },
  {
   "cell_type": "code",
   "execution_count": 1,
   "metadata": {},
   "outputs": [
    {
     "data": {
      "text/html": [
       "\n",
       "        <iframe\n",
       "            width=\"100%\"\n",
       "            height=\"400px\"\n",
       "            src=\"data:text/html;charset=utf-8,%3C%21DOCTYPE%20html%3E%3Chtml%3E%3Chead%3E%3Clink%20rel%3D%22stylesheet%22%20href%3D%22https%3A//unpkg.com/tippy.js%406.3.7/themes/translucent.css%22%3E%3Clink%20rel%3D%22stylesheet%22%20href%3D%22https%3A//rawcdn.githack.com/BioSTEAMDevelopmentGroup/biosteam/e065aca079c216d72b75949bbcbb74a3bbddb75d/biosteam/digraph/digraph.css%22%3E%3Cscript%20src%3D%22https%3A//unpkg.com/%40popperjs/core%402%22%3E%3C/script%3E%3Cscript%20src%3D%22https%3A//unpkg.com/tippy.js%406%22%3E%3C/script%3E%3Cscript%20src%3D%22https%3A//rawcdn.githack.com/BioSTEAMDevelopmentGroup/biosteam/e065aca079c216d72b75949bbcbb74a3bbddb75d/biosteam/digraph/digraph.js%22%3E%3C/script%3E%3C/head%3E%3Cbody%3E%3Csvg%20width%3D%22674pt%22%20height%3D%22231pt%22%20viewBox%3D%220.00%200.00%20674.30%20230.74%22%3E%0A%3Cg%20id%3D%22graph0%22%20class%3D%22graph%22%20transform%3D%22scale%281%201%29%20rotate%280%29%20translate%284%20226.74%29%22%3E%0A%3Cpolygon%20fill%3D%22%23ffffff%22%20fill-opacity%3D%220.666667%22%20stroke%3D%22transparent%22%20points%3D%22-4%2C4%20-4%2C-226.74%20670.3%2C-226.74%20670.3%2C4%20-4%2C4%22%3E%3C/polygon%3E%0A%0A%3Cg%20id%3D%22edge2%22%20class%3D%22edge%22%20data-tippy-content%3D%22Temperature%3A%20298.58%20K%3Cbr%26gt%3BPressure%3A%20101325%20Pa%3Cbr%26gt%3BLiquid%20flow%3A%201.01%20kmol/hr%22%3E%0A%3Cpath%20fill%3D%22none%22%20stroke%3D%22%234e4e4e%22%20stroke-width%3D%222.2%22%20d%3D%22M199.42%2C-62.74C212.66%2C-62.74%20223.71%2C-70.22%20232.52%2C-80.11%22%3E%3C/path%3E%0A%3Cpolygon%20fill%3D%22%234e4e4e%22%20stroke%3D%22%234e4e4e%22%20stroke-width%3D%222.2%22%20points%3D%22229.87%2C-82.4%20238.83%2C-88.06%20235.36%2C-78.05%20229.87%2C-82.4%22%3E%3C/polygon%3E%0A%3Cg%20id%3D%22a_edge2-label%22%3E%3Ca%20title%3D%22%20Temperature%3A%20298.58%20K%3Cbr%26gt%3BPressure%3A%20101325%20Pa%3Cbr%26gt%3BLiquid%20flow%3A%201.01%20kmol/hr%22%3E%0A%3Ctext%20text-anchor%3D%22middle%22%20x%3D%22216.92%22%20y%3D%22-77.54%22%20font-family%3D%22Arial%22%20font-size%3D%2214.00%22%20fill%3D%22%234e4e4e%22%3E%20s1%3C/text%3E%0A%3C/a%3E%0A%3C/g%3E%0A%3C/g%3E%0A%0A%3Cg%20id%3D%22edge5%22%20class%3D%22edge%22%20data-tippy-content%3D%22Temperature%3A%20373.12%20K%3Cbr%26gt%3BPressure%3A%20101325%20Pa%3Cbr%26gt%3BLiquid%20flow%3A%200.0629%20kmol/hr%22%3E%0A%3Cpath%20fill%3D%22none%22%20stroke%3D%22%234e4e4e%22%20stroke-width%3D%221.6%22%20d%3D%22M259.42%2C-87.74C259.42%2C-61.18%20339.68%2C-54.87%20376.98%2C-53.89%22%3E%3C/path%3E%0A%3Cpolygon%20fill%3D%22%234e4e4e%22%20stroke%3D%22%234e4e4e%22%20stroke-width%3D%221.6%22%20points%3D%22377.47%2C-57.38%20387.42%2C-53.74%20377.37%2C-50.38%20377.47%2C-57.38%22%3E%3C/polygon%3E%0A%3Cg%20id%3D%22a_edge5-label%22%3E%3Ca%20title%3D%22%20Temperature%3A%20373.12%20K%3Cbr%26gt%3BPressure%3A%20101325%20Pa%3Cbr%26gt%3BLiquid%20flow%3A%200.0629%20kmol/hr%22%3E%0A%3Ctext%20text-anchor%3D%22middle%22%20x%3D%22335.92%22%20y%3D%22-68.54%22%20font-family%3D%22Arial%22%20font-size%3D%2214.00%22%20fill%3D%22%234e4e4e%22%3E%20s2%3C/text%3E%0A%3C/a%3E%0A%3C/g%3E%0A%3C/g%3E%0A%0A%3Cg%20id%3D%22edge3%22%20class%3D%22edge%22%20data-tippy-content%3D%22Temperature%3A%20373.12%20K%3Cbr%26gt%3BPressure%3A%20101325%20Pa%3Cbr%26gt%3BGas%20flow%3A%200.943%20kmol/hr%22%3E%0A%3Cpath%20fill%3D%22none%22%20stroke%3D%22%234e4e4e%22%20stroke-width%3D%221.6%22%20d%3D%22M259.42%2C-167.74C259.42%2C-259.94%20374.66%2C-166.74%20466.86%2C-166.74%22%3E%3C/path%3E%0A%3Cg%20id%3D%22a_edge3-label%22%3E%3Ca%20title%3D%22%20Temperature%3A%20373.12%20K%3Cbr%26gt%3BPressure%3A%20101325%20Pa%3Cbr%26gt%3BGas%20flow%3A%200.943%20kmol/hr%22%3E%0A%3Ctext%20text-anchor%3D%22middle%22%20x%3D%22335.92%22%20y%3D%22-211.54%22%20font-family%3D%22Arial%22%20font-size%3D%2214.00%22%20fill%3D%22%234e4e4e%22%3E%20vapor%20product%3C/text%3E%0A%3C/a%3E%0A%3C/g%3E%0A%3C/g%3E%0A%0A%3Cg%20id%3D%22edge4%22%20class%3D%22edge%22%20data-tippy-content%3D%22Temperature%3A%20373.12%20K%3Cbr%26gt%3BPressure%3A%20101325%20Pa%3Cbr%26gt%3BLiquid%20flow%3A%200.00629%20kmol/hr%22%3E%0A%3Cpath%20fill%3D%22none%22%20stroke%3D%22%234e4e4e%22%20d%3D%22M391.11%2C-52.05C338.95%2C-51.5%20269.04%2C-51.83%20207.42%2C-55.74%20204.57%2C-55.92%20201.66%2C-56.12%20198.72%2C-56.33%22%3E%3C/path%3E%0A%3Cpolygon%20fill%3D%22%234e4e4e%22%20stroke%3D%22%234e4e4e%22%20points%3D%22198.37%2C-52.85%20188.66%2C-57.1%20198.9%2C-59.83%20198.37%2C-52.85%22%3E%3C/polygon%3E%0A%3Cg%20id%3D%22a_edge4-label%22%3E%3Ca%20title%3D%22%20Temperature%3A%20373.12%20K%3Cbr%26gt%3BPressure%3A%20101325%20Pa%3Cbr%26gt%3BLiquid%20flow%3A%200.00629%20kmol/hr%22%3E%0A%3Ctext%20text-anchor%3D%22middle%22%20x%3D%22259.42%22%20y%3D%22-58.54%22%20font-family%3D%22Arial%22%20font-size%3D%2214.00%22%20fill%3D%22%234e4e4e%22%3E%20recycle%3C/text%3E%0A%3C/a%3E%0A%3C/g%3E%0A%3C/g%3E%0A%0A%3Cg%20id%3D%22edge6%22%20class%3D%22edge%22%20data-tippy-content%3D%22Temperature%3A%20373.12%20K%3Cbr%26gt%3BPressure%3A%20101325%20Pa%3Cbr%26gt%3BLiquid%20flow%3A%200.0566%20kmol/hr%22%3E%0A%3Cpath%20fill%3D%22none%22%20stroke%3D%22%234e4e4e%22%20d%3D%22M512.63%2C-53.74C550.1%2C-53.74%20607.19%2C-53.74%20656.8%2C-53.74%22%3E%3C/path%3E%0A%3Cg%20id%3D%22a_edge6-label%22%3E%3Ca%20title%3D%22%20Temperature%3A%20373.12%20K%3Cbr%26gt%3BPressure%3A%20101325%20Pa%3Cbr%26gt%3BLiquid%20flow%3A%200.0566%20kmol/hr%22%3E%0A%3Ctext%20text-anchor%3D%22middle%22%20x%3D%22604.8%22%20y%3D%22-57.54%22%20font-family%3D%22Arial%22%20font-size%3D%2214.00%22%20fill%3D%22%234e4e4e%22%3E%20liquid%20product%3C/text%3E%0A%3C/a%3E%0A%3C/g%3E%0A%3C/g%3E%0A%0A%3Cg%20id%3D%22edge1%22%20class%3D%22edge%22%20data-tippy-content%3D%22Temperature%3A%20298.15%20K%3Cbr%26gt%3BPressure%3A%20101325%20Pa%3Cbr%26gt%3BLiquid%20flow%3A%201%20kmol/hr%22%3E%0A%3Cpath%20fill%3D%22none%22%20stroke%3D%22%234e4e4e%22%20stroke-width%3D%222.2%22%20d%3D%22M11%2C-62.74C38.66%2C-62.74%2070%2C-62.74%2093.24%2C-62.74%22%3E%3C/path%3E%0A%3Cg%20id%3D%22a_edge1-label%22%3E%3Ca%20title%3D%22%20Temperature%3A%20298.15%20K%3Cbr%26gt%3BPressure%3A%20101325%20Pa%3Cbr%26gt%3BLiquid%20flow%3A%201%20kmol/hr%22%3E%0A%3Ctext%20text-anchor%3D%22middle%22%20x%3D%2234.5%22%20y%3D%22-66.54%22%20font-family%3D%22Arial%22%20font-size%3D%2214.00%22%20fill%3D%22%234e4e4e%22%3E%20feed%3C/text%3E%0A%3C/a%3E%0A%3C/g%3E%0A%3C/g%3E%0A%0A%3Cg%20id%3D%22node1%22%20class%3D%22node%22%20data-tippy-content%3D%22No%20capital%20costs%20or%20utilities%22%3E%0A%3Cg%20id%3D%22a_node1%22%3E%3Ca%20title%3D%22%20No%20capital%20costs%20or%20utilities%22%3E%0A%3Cdefs%3E%0A%3ClinearGradient%20id%3D%22l_0%22%20gradientUnits%3D%22userSpaceOnUse%22%20x1%3D%2293.25%22%20y1%3D%22-62.74%22%20x2%3D%22199.63%22%20y2%3D%22-62.74%22%3E%0A%3Cstop%20offset%3D%220%22%20style%3D%22stop-color%3Awhite%3Bstop-opacity%3A1.%3B%22%3E%3C/stop%3E%0A%3Cstop%20offset%3D%221%22%20style%3D%22stop-color%3A%23cdcdcd%3Bstop-opacity%3A1.%3B%22%3E%3C/stop%3E%0A%3C/linearGradient%3E%0A%3C/defs%3E%0A%3Cpolygon%20fill%3D%22url%28%23l_0%29%22%20stroke%3D%22%234e4e4e%22%20points%3D%22199.63%2C-62.74%2093.25%2C-116.72%2093.25%2C-8.76%20199.63%2C-62.74%22%3E%3C/polygon%3E%0A%3Ctext%20text-anchor%3D%22middle%22%20x%3D%22128.71%22%20y%3D%22-66.54%22%20font-family%3D%22Arial%22%20font-size%3D%2214.00%22%3Emixer%3C/text%3E%0A%3Ctext%20text-anchor%3D%22middle%22%20x%3D%22128.71%22%20y%3D%22-51.54%22%20font-family%3D%22Arial%22%20font-size%3D%2214.00%22%3EMixer%3C/text%3E%0A%3C/a%3E%0A%3C/g%3E%0A%3C/g%3E%0A%0A%3Cg%20id%3D%22node2%22%20class%3D%22node%22%20data-tippy-content%3D%22Heating%20duty%3A%2046.3%20MJ/hr%3Cbr%26gt%3BUtility%20cost%3A%200.285%20USD/hr%3Cbr%26gt%3BPurchase%20cost%3A%207%2C565%20USD%3Cbr%26gt%3BInstalled%20equipment%20cost%3A%2022%2C420%20USD%22%3E%0A%3Cg%20id%3D%22a_node2%22%3E%3Ca%20title%3D%22%20Heating%20duty%3A%2046.3%20MJ/hr%3Cbr%26gt%3BUtility%20cost%3A%200.285%20USD/hr%3Cbr%26gt%3BPurchase%20cost%3A%207%2C565%20USD%3Cbr%26gt%3BInstalled%20equipment%20cost%3A%2022%2C420%20USD%22%3E%0A%3Cdefs%3E%0A%3ClinearGradient%20id%3D%22l_1%22%20gradientUnits%3D%22userSpaceOnUse%22%20x1%3D%22234.42%22%20y1%3D%22-127.74%22%20x2%3D%22284.42%22%20y2%3D%22-127.74%22%3E%0A%3Cstop%20offset%3D%220%22%20style%3D%22stop-color%3Awhite%3Bstop-opacity%3A1.%3B%22%3E%3C/stop%3E%0A%3Cstop%20offset%3D%221%22%20style%3D%22stop-color%3A%23cdcdcd%3Bstop-opacity%3A1.%3B%22%3E%3C/stop%3E%0A%3C/linearGradient%3E%0A%3C/defs%3E%0A%3Cpolygon%20fill%3D%22url%28%23l_1%29%22%20stroke%3D%22%234e4e4e%22%20points%3D%22284.42%2C-167.24%20234.42%2C-167.24%20234.42%2C-88.24%20284.42%2C-88.24%20284.42%2C-167.24%22%3E%3C/polygon%3E%0A%3Ctext%20text-anchor%3D%22middle%22%20x%3D%22259.42%22%20y%3D%22-131.54%22%20font-family%3D%22Arial%22%20font-size%3D%2214.00%22%3Eflash%3C/text%3E%0A%3Ctext%20text-anchor%3D%22middle%22%20x%3D%22259.42%22%20y%3D%22-116.54%22%20font-family%3D%22Arial%22%20font-size%3D%2214.00%22%3EFlash%3C/text%3E%0A%3C/a%3E%0A%3C/g%3E%0A%3C/g%3E%0A%0A%3Cg%20id%3D%22node3%22%20class%3D%22node%22%20data-tippy-content%3D%22No%20capital%20costs%20or%20utilities%22%3E%0A%3Cg%20id%3D%22a_node3%22%3E%3Ca%20title%3D%22%20No%20capital%20costs%20or%20utilities%22%3E%0A%3Cdefs%3E%0A%3ClinearGradient%20id%3D%22l_2%22%20gradientUnits%3D%22userSpaceOnUse%22%20x1%3D%22387.48%22%20y1%3D%22-53.74%22%20x2%3D%22512.55%22%20y2%3D%22-53.74%22%3E%0A%3Cstop%20offset%3D%220%22%20style%3D%22stop-color%3Awhite%3Bstop-opacity%3A1.%3B%22%3E%3C/stop%3E%0A%3Cstop%20offset%3D%221%22%20style%3D%22stop-color%3A%23cdcdcd%3Bstop-opacity%3A1.%3B%22%3E%3C/stop%3E%0A%3C/linearGradient%3E%0A%3C/defs%3E%0A%3Cpolygon%20fill%3D%22url%28%23l_2%29%22%20stroke%3D%22%234e4e4e%22%20points%3D%22387.48%2C-53.74%20512.55%2C0.24%20512.55%2C-107.72%20387.48%2C-53.74%22%3E%3C/polygon%3E%0A%3Ctext%20text-anchor%3D%22middle%22%20x%3D%22470.86%22%20y%3D%22-57.54%22%20font-family%3D%22Arial%22%20font-size%3D%2214.00%22%3Esplitter%3C/text%3E%0A%3Ctext%20text-anchor%3D%22middle%22%20x%3D%22470.86%22%20y%3D%22-42.54%22%20font-family%3D%22Arial%22%20font-size%3D%2214.00%22%3ESplitter%3C/text%3E%0A%3C/a%3E%0A%3C/g%3E%0A%3C/g%3E%0A%0A%3Cg%20id%3D%22node4%22%20class%3D%22node%22%20data-tippy-content%3D%228773928561855%22%3E%0A%3Cpolygon%20fill%3D%22%23f98f60%22%20stroke%3D%22%234e4e4e%22%20points%3D%225.5%2C-68.24%200%2C-62.74%205.5%2C-57.24%2011%2C-62.74%205.5%2C-68.24%22%3E%3C/polygon%3E%0A%3C/g%3E%0A%0A%3Cg%20id%3D%22node5%22%20class%3D%22node%22%20data-tippy-content%3D%228773928562493%22%3E%0A%3Cpolygon%20fill%3D%22%23f98f60%22%20stroke%3D%22%234e4e4e%22%20points%3D%22476.36%2C-166.74%20468.11%2C-173.74%20468.11%2C-159.74%20476.36%2C-166.74%22%3E%3C/polygon%3E%0A%3C/g%3E%0A%0A%3Cg%20id%3D%22node6%22%20class%3D%22node%22%20data-tippy-content%3D%228773928562438%22%3E%0A%3Cpolygon%20fill%3D%22%23f98f60%22%20stroke%3D%22%234e4e4e%22%20points%3D%22666.3%2C-53.74%20658.05%2C-60.74%20658.05%2C-46.74%20666.3%2C-53.74%22%3E%3C/polygon%3E%0A%3C/g%3E%0A%3C/g%3E%0A%3C/svg%3E%3C/body%3E%3C/html%3E\"\n",
       "            frameborder=\"0\"\n",
       "            allowfullscreen\n",
       "            allowtransparency=\"true\"\n",
       "        ></iframe>\n",
       "        "
      ],
      "text/plain": [
       "<IPython.lib.display.IFrame at 0x7fad6e52b760>"
      ]
     },
     "metadata": {},
     "output_type": "display_data"
    },
    {
     "name": "stdout",
     "output_type": "stream",
     "text": [
      "System: sys\n",
      "Highest convergence error among components in recycle\n",
      "stream splitter-0 after 2 loops:\n",
      "- flow rate   5.71e-04 kmol/hr (9.1%)\n",
      "- temperature 0.00e+00 K (0%)\n",
      "ins...\n",
      "[0] feed  \n",
      "    phase: 'l', T: 298.15 K, P: 101325 Pa\n",
      "    flow (kmol/hr): Water  1\n",
      "outs...\n",
      "[0] vapor_product  \n",
      "    phase: 'g', T: 373.12 K, P: 101325 Pa\n",
      "    flow (kmol/hr): Water  0.943\n",
      "[1] liquid_product  \n",
      "    phase: 'l', T: 373.12 K, P: 101325 Pa\n",
      "    flow (kmol/hr): Water  0.0566\n"
     ]
    }
   ],
   "source": [
    "import biosteam as bst\n",
    "bst.nbtutorial() # Light-mode html diagrams and filter warnings\n",
    "bst.settings.set_thermo(['Water'])\n",
    "feed = bst.Stream('feed', Water=1)\n",
    "recycle = bst.Stream('recycle')\n",
    "liquid_product = bst.Stream('liquid_product')\n",
    "mixer = bst.Mixer('mixer', [feed, recycle])\n",
    "flash = bst.Flash('flash', mixer-0, ['vapor_product', ''], Q=feed.Hvap, P=101325)\n",
    "splitter = bst.Splitter('splitter', flash.liquid, outs=[recycle, liquid_product], split=0.1) # flash.liquid is flash.outs[1]\n",
    "sys = bst.main_flowsheet.create_system('sys')\n",
    "sys.simulate()\n",
    "sys.diagram()\n",
    "sys.show()"
   ]
  },
  {
   "cell_type": "markdown",
   "metadata": {},
   "source": []
  },
  {
   "cell_type": "markdown",
   "metadata": {},
   "source": [
    "### 6.1.2 Convergence methods"
   ]
  },
  {
   "cell_type": "markdown",
   "metadata": {},
   "source": [
    "It may be possible that a system may be more efficient to converge using another solver. Here is a list of solvers available in BioSTEAM:"
   ]
  },
  {
   "cell_type": "code",
   "execution_count": 2,
   "metadata": {},
   "outputs": [
    {
     "data": {
      "text/plain": [
       "['aitken',\n",
       " 'wegstein',\n",
       " 'fixedpoint',\n",
       " 'anderson',\n",
       " 'diagbroyden',\n",
       " 'excitingmixing',\n",
       " 'linearmixing',\n",
       " 'broyden1',\n",
       " 'broyden2']"
      ]
     },
     "execution_count": 2,
     "metadata": {},
     "output_type": "execute_result"
    }
   ],
   "source": [
    "list(bst.System.available_methods)\n",
    "\n",
    "# Aitken, Wegstein, and fixed-point methods are in-house solvers from BioSTEAM. The other methods are imported from scipy."
   ]
  },
  {
   "cell_type": "markdown",
   "metadata": {},
   "source": [
    "### 6.1.3. Importance of thermodynamic property package"
   ]
  },
  {
   "cell_type": "markdown",
   "metadata": {},
   "source": [
    "The choice of thermodynamic property package may have a large impact in the results, regardless of convergence. For example, in the liquefaction of nitrogen, it is important to account for excess thermodynamic energies due to high pressures."
   ]
  },
  {
   "cell_type": "code",
   "execution_count": 3,
   "metadata": {},
   "outputs": [
    {
     "name": "stderr",
     "output_type": "stream",
     "text": [
      "Warning: No such file or directory while opening /home/georg/Zayt/biosteam/biosteam/lib/python3.10/site-packages/biosteam/graphics/valve_light.png\n",
      "Warning: No or improper image=\"/home/georg/Zayt/biosteam/biosteam/lib/python3.10/site-packages/biosteam/graphics/valve_light.png\" for node \"\"\n"
     ]
    },
    {
     "data": {
      "text/html": [
       "\n",
       "        <iframe\n",
       "            width=\"100%\"\n",
       "            height=\"400px\"\n",
       "            src=\"data:text/html;charset=utf-8,%3C%21DOCTYPE%20html%3E%3Chtml%3E%3Chead%3E%3Clink%20rel%3D%22stylesheet%22%20href%3D%22https%3A//unpkg.com/tippy.js%406.3.7/themes/translucent.css%22%3E%3Clink%20rel%3D%22stylesheet%22%20href%3D%22https%3A//rawcdn.githack.com/BioSTEAMDevelopmentGroup/biosteam/e065aca079c216d72b75949bbcbb74a3bbddb75d/biosteam/digraph/digraph.css%22%3E%3Cscript%20src%3D%22https%3A//unpkg.com/%40popperjs/core%402%22%3E%3C/script%3E%3Cscript%20src%3D%22https%3A//unpkg.com/tippy.js%406%22%3E%3C/script%3E%3Cscript%20src%3D%22https%3A//rawcdn.githack.com/BioSTEAMDevelopmentGroup/biosteam/e065aca079c216d72b75949bbcbb74a3bbddb75d/biosteam/digraph/digraph.js%22%3E%3C/script%3E%3C/head%3E%3Cbody%3E%3Csvg%20width%3D%22551pt%22%20height%3D%22227pt%22%20viewBox%3D%220.00%200.00%20551.00%20227.00%22%3E%0A%3Cg%20id%3D%22graph0%22%20class%3D%22graph%22%20transform%3D%22scale%281%201%29%20rotate%280%29%20translate%284%20223%29%22%3E%0A%3Cpolygon%20fill%3D%22%23ffffff%22%20fill-opacity%3D%220.666667%22%20stroke%3D%22transparent%22%20points%3D%22-4%2C4%20-4%2C-223%20547%2C-223%20547%2C4%20-4%2C4%22%3E%3C/polygon%3E%0A%0A%3Cg%20id%3D%22edge2%22%20class%3D%22edge%22%20data-tippy-content%3D%22Temperature%3A%20280%20K%3Cbr%26gt%3BPressure%3A%202e%2B07%20Pa%3Cbr%26gt%3BGas%20flow%3A%20353%20kmol/hr%22%3E%0A%3Cpath%20fill%3D%22none%22%20stroke%3D%22%234e4e4e%22%20d%3D%22M186.34%2C-86.63C210.12%2C-78.1%20236.45%2C-68.65%20257.12%2C-61.23%22%3E%3C/path%3E%0A%3Cpolygon%20fill%3D%22%234e4e4e%22%20stroke%3D%22%234e4e4e%22%20points%3D%22258.55%2C-64.44%20266.78%2C-57.77%20256.18%2C-57.85%20258.55%2C-64.44%22%3E%3C/polygon%3E%0A%3Cg%20id%3D%22a_edge2-label%22%3E%3Ca%20title%3D%22%20Temperature%3A%20280%20K%3Cbr%26gt%3BPressure%3A%202e%2B07%20Pa%3Cbr%26gt%3BGas%20flow%3A%20353%20kmol/hr%22%3E%0A%3Ctext%20text-anchor%3D%22middle%22%20x%3D%22228%22%20y%3D%22-85.8%22%20font-family%3D%22Arial%22%20font-size%3D%2214.00%22%20fill%3D%22%234e4e4e%22%3E%20throttle%20in%3C/text%3E%0A%3C/a%3E%0A%3C/g%3E%0A%3C/g%3E%0A%0A%3Cg%20id%3D%22edge5%22%20class%3D%22edge%22%20data-tippy-content%3D%22Temperature%3A%20280%20K%3Cbr%26gt%3BPressure%3A%20100000%20Pa%3Cbr%26gt%3BGas%20flow%3A%20353%20kmol/hr%22%3E%0A%3Cpath%20fill%3D%22none%22%20stroke%3D%22%234e4e4e%22%20d%3D%22M190.23%2C-109C220.89%2C-109%20257.8%2C-109%20291%2C-109%22%3E%3C/path%3E%0A%3Cg%20id%3D%22a_edge5-label%22%3E%3Ca%20title%3D%22%20Temperature%3A%20280%20K%3Cbr%26gt%3BPressure%3A%20100000%20Pa%3Cbr%26gt%3BGas%20flow%3A%20353%20kmol/hr%22%3E%0A%3Ctext%20text-anchor%3D%22middle%22%20x%3D%22228%22%20y%3D%22-112.8%22%20font-family%3D%22Arial%22%20font-size%3D%2214.00%22%20fill%3D%22%234e4e4e%22%3E%20out%3C/text%3E%0A%3C/a%3E%0A%3C/g%3E%0A%3C/g%3E%0A%0A%3Cg%20id%3D%22edge3%22%20class%3D%22edge%22%20data-tippy-content%3D%22Temperature%3A%20280%20K%3Cbr%26gt%3BPressure%3A%20100000%20Pa%3Cbr%26gt%3BGas%20flow%3A%20353%20kmol/hr%3Cbr%26gt%3BLiquid%20flow%3A%200%20kmol/hr%22%3E%0A%3Cpath%20fill%3D%22none%22%20stroke%3D%22%234e4e4e%22%20d%3D%22M323.03%2C-64.3C342.43%2C-76.01%20368.68%2C-91.84%20389.26%2C-104.25%22%3E%3C/path%3E%0A%3Cpolygon%20fill%3D%22%234e4e4e%22%20stroke%3D%22%234e4e4e%22%20points%3D%22387.62%2C-107.35%20397.99%2C-109.52%20391.24%2C-101.36%20387.62%2C-107.35%22%3E%3C/polygon%3E%0A%3Cg%20id%3D%22a_edge3-label%22%3E%3Ca%20title%3D%22%20Temperature%3A%20280%20K%3Cbr%26gt%3BPressure%3A%20100000%20Pa%3Cbr%26gt%3BGas%20flow%3A%20353%20kmol/hr%3Cbr%26gt%3BLiquid%20flow%3A%200%20kmol/hr%22%3E%0A%3Ctext%20text-anchor%3D%22middle%22%20x%3D%22361%22%20y%3D%22-106.8%22%20font-family%3D%22Arial%22%20font-size%3D%2214.00%22%20fill%3D%22%234e4e4e%22%3E%20valve%20out%3C/text%3E%0A%3C/a%3E%0A%3C/g%3E%0A%3C/g%3E%0A%0A%3Cg%20id%3D%22edge4%22%20class%3D%22edge%22%20data-tippy-content%3D%22Temperature%3A%20280%20K%3Cbr%26gt%3BPressure%3A%20100000%20Pa%3Cbr%26gt%3BGas%20flow%3A%20353%20kmol/hr%22%3E%0A%3Cpath%20fill%3D%22none%22%20stroke%3D%22%234e4e4e%22%20d%3D%22M423%2C-164C423%2C-258.02%20278.23%2C-194.57%20190.16%2C-147.27%22%3E%3C/path%3E%0A%3Cpolygon%20fill%3D%22%234e4e4e%22%20stroke%3D%22%234e4e4e%22%20points%3D%22191.76%2C-144.15%20181.3%2C-142.46%20188.42%2C-150.3%20191.76%2C-144.15%22%3E%3C/polygon%3E%0A%3Cg%20id%3D%22a_edge4-label%22%3E%3Ca%20title%3D%22%20Temperature%3A%20280%20K%3Cbr%26gt%3BPressure%3A%20100000%20Pa%3Cbr%26gt%3BGas%20flow%3A%20353%20kmol/hr%22%3E%0A%3Ctext%20text-anchor%3D%22middle%22%20x%3D%22295%22%20y%3D%22-207.8%22%20font-family%3D%22Arial%22%20font-size%3D%2214.00%22%20fill%3D%22%234e4e4e%22%3E%20flash%20gas%3C/text%3E%0A%3C/a%3E%0A%3C/g%3E%0A%3C/g%3E%0A%0A%3Cg%20id%3D%22edge6%22%20class%3D%22edge%22%20data-tippy-content%3D%22%28empty%29%22%3E%0A%3Cpath%20fill%3D%22none%22%20stroke%3D%22%234e4e4e%22%20stroke-dasharray%3D%225%2C2%22%20d%3D%22M423%2C-84C423%2C-34.89%20484.39%2C-85%20533.5%2C-85%22%3E%3C/path%3E%0A%3Cg%20id%3D%22a_edge6-label%22%3E%3Ca%20title%3D%22%28empty%29%22%3E%0A%3Ctext%20text-anchor%3D%22middle%22%20x%3D%22490%22%20y%3D%22-87.8%22%20font-family%3D%22Arial%22%20font-size%3D%2214.00%22%20fill%3D%22%234e4e4e%22%3E%20flash%20liquid%3C/text%3E%0A%3C/a%3E%0A%3C/g%3E%0A%3C/g%3E%0A%0A%3Cg%20id%3D%22edge1%22%20class%3D%22edge%22%20data-tippy-content%3D%22Temperature%3A%20280%20K%3Cbr%26gt%3BPressure%3A%202e%2B07%20Pa%3Cbr%26gt%3BGas%20flow%3A%20353%20kmol/hr%22%3E%0A%3Cpath%20fill%3D%22none%22%20stroke%3D%22%234e4e4e%22%20d%3D%22M11%2C-109C25.55%2C-109%2041.17%2C-109%2055.97%2C-109%22%3E%3C/path%3E%0A%3Cg%20id%3D%22a_edge1-label%22%3E%3Ca%20title%3D%22%20Temperature%3A%20280%20K%3Cbr%26gt%3BPressure%3A%202e%2B07%20Pa%3Cbr%26gt%3BGas%20flow%3A%20353%20kmol/hr%22%3E%0A%3Ctext%20text-anchor%3D%22middle%22%20x%3D%2233.5%22%20y%3D%22-112.8%22%20font-family%3D%22Arial%22%20font-size%3D%2214.00%22%20fill%3D%22%234e4e4e%22%3E%20inlet%3C/text%3E%0A%3C/a%3E%0A%3C/g%3E%0A%3C/g%3E%0A%0A%3Cg%20id%3D%22node1%22%20class%3D%22node%22%20data-tippy-content%3D%22No%20capital%20costs%20or%20utilities%22%3E%0A%3Cg%20id%3D%22a_node1%22%3E%3Ca%20title%3D%22%20No%20capital%20costs%20or%20utilities%22%3E%0A%3Cdefs%3E%0A%3ClinearGradient%20id%3D%22l_0%22%20gradientUnits%3D%22userSpaceOnUse%22%20x1%3D%22123%22%20y1%3D%22-42%22%20x2%3D%22123%22%20y2%3D%22-176%22%3E%0A%3Cstop%20offset%3D%220%22%20style%3D%22stop-color%3A%2360c1cf%3Bstop-opacity%3A1.%3B%22%3E%3C/stop%3E%0A%3Cstop%20offset%3D%221%22%20style%3D%22stop-color%3A%23ed5a6a%3Bstop-opacity%3A1.%3B%22%3E%3C/stop%3E%0A%3C/linearGradient%3E%0A%3C/defs%3E%0A%3Cellipse%20fill%3D%22url%28%23l_0%29%22%20stroke%3D%22transparent%22%20cx%3D%22123%22%20cy%3D%22-109%22%20rx%3D%2267%22%20ry%3D%2267%22%3E%3C/ellipse%3E%0A%3Ctext%20text-anchor%3D%22middle%22%20x%3D%22123%22%20y%3D%22-112.8%22%20font-family%3D%22Arial%22%20font-size%3D%2214.00%22%20fill%3D%22white%22%3Eregenerator%3C/text%3E%0A%3Ctext%20text-anchor%3D%22middle%22%20x%3D%22123%22%20y%3D%22-97.8%22%20font-family%3D%22Arial%22%20font-size%3D%2214.00%22%20fill%3D%22white%22%3EHeat%20exchanger%3C/text%3E%0A%3C/a%3E%0A%3C/g%3E%0A%3C/g%3E%0A%3Cg%20id%3D%22node2%22%20class%3D%22node%22%20data-tippy-content%3D%22No%20capital%20costs%20or%20utilities%22%3E%0A%3Cg%20id%3D%22a_node2%22%3E%3Ca%20title%3D%22%20No%20capital%20costs%20or%20utilities%22%3E%0A%3Cpolygon%20fill%3D%22transparent%22%20stroke%3D%22transparent%22%20points%3D%22323%2C-66%20267%2C-66%20267%2C-30%20323%2C-30%20323%2C-66%22%3E%3C/polygon%3E%0A%3C/a%3E%0A%3C/g%3E%0A%3Ctext%20text-anchor%3D%22middle%22%20x%3D%22236%22%20y%3D%22-18.8%22%20font-family%3D%22Arial%22%20font-size%3D%2214.00%22%20fill%3D%22%234e4e4e%22%3Eexpansion%3C/text%3E%0A%3Ctext%20text-anchor%3D%22middle%22%20x%3D%22236%22%20y%3D%22-3.8%22%20font-family%3D%22Arial%22%20font-size%3D%2214.00%22%20fill%3D%22%234e4e4e%22%3EValve%3C/text%3E%0A%3C/g%3E%0A%0A%3Cg%20id%3D%22node3%22%20class%3D%22node%22%20data-tippy-content%3D%22No%20capital%20costs%20or%20utilities%22%3E%0A%3Cg%20id%3D%22a_node3%22%3E%3Ca%20title%3D%22%20No%20capital%20costs%20or%20utilities%22%3E%0A%3Cdefs%3E%0A%3ClinearGradient%20id%3D%22l_1%22%20gradientUnits%3D%22userSpaceOnUse%22%20x1%3D%22398%22%20y1%3D%22-124%22%20x2%3D%22448%22%20y2%3D%22-124%22%3E%0A%3Cstop%20offset%3D%220%22%20style%3D%22stop-color%3Awhite%3Bstop-opacity%3A1.%3B%22%3E%3C/stop%3E%0A%3Cstop%20offset%3D%221%22%20style%3D%22stop-color%3A%23cdcdcd%3Bstop-opacity%3A1.%3B%22%3E%3C/stop%3E%0A%3C/linearGradient%3E%0A%3C/defs%3E%0A%3Cpolygon%20fill%3D%22url%28%23l_1%29%22%20stroke%3D%22%234e4e4e%22%20points%3D%22448%2C-163.5%20398%2C-163.5%20398%2C-84.5%20448%2C-84.5%20448%2C-163.5%22%3E%3C/polygon%3E%0A%3Ctext%20text-anchor%3D%22middle%22%20x%3D%22423%22%20y%3D%22-127.8%22%20font-family%3D%22Arial%22%20font-size%3D%2214.00%22%3Eflash%3C/text%3E%0A%3Ctext%20text-anchor%3D%22middle%22%20x%3D%22423%22%20y%3D%22-112.8%22%20font-family%3D%22Arial%22%20font-size%3D%2214.00%22%3EFlash%3C/text%3E%0A%3C/a%3E%0A%3C/g%3E%0A%3C/g%3E%0A%0A%3Cg%20id%3D%22node4%22%20class%3D%22node%22%20data-tippy-content%3D%228773928469827%22%3E%0A%3Cpolygon%20fill%3D%22%23f98f60%22%20stroke%3D%22%234e4e4e%22%20points%3D%225.5%2C-114.5%200%2C-109%205.5%2C-103.5%2011%2C-109%205.5%2C-114.5%22%3E%3C/polygon%3E%0A%3C/g%3E%0A%0A%3Cg%20id%3D%22node5%22%20class%3D%22node%22%20data-tippy-content%3D%228773928470091%22%3E%0A%3Cpolygon%20fill%3D%22%23f98f60%22%20stroke%3D%22%234e4e4e%22%20points%3D%22300.5%2C-109%20292.25%2C-116%20292.25%2C-102%20300.5%2C-109%22%3E%3C/polygon%3E%0A%3C/g%3E%0A%0A%3Cg%20id%3D%22node6%22%20class%3D%22node%22%20data-tippy-content%3D%228773928470124%22%3E%0A%3Cpolygon%20fill%3D%22%23f98f60%22%20stroke%3D%22%234e4e4e%22%20points%3D%22543%2C-85%20534.75%2C-92%20534.75%2C-78%20543%2C-85%22%3E%3C/polygon%3E%0A%3C/g%3E%0A%3C/g%3E%0A%3C/svg%3E%3C/body%3E%3C/html%3E\"\n",
       "            frameborder=\"0\"\n",
       "            allowfullscreen\n",
       "            allowtransparency=\"true\"\n",
       "        ></iframe>\n",
       "        "
      ],
      "text/plain": [
       "<IPython.lib.display.IFrame at 0x7fadd24e35b0>"
      ]
     },
     "metadata": {},
     "output_type": "display_data"
    },
    {
     "name": "stdout",
     "output_type": "stream",
     "text": [
      "Results without excess free energies\n",
      "------------------------------------\n",
      "System: N2_liquefaction\n",
      "Highest convergence error among components in recycle\n",
      "stream flash-0 after 2 loops:\n",
      "- flow rate   0.00e+00 kmol/hr (0%)\n",
      "- temperature 0.00e+00 K (0%)\n",
      "ins...\n",
      "[0] inlet  \n",
      "    phase: 'g', T: 280 K, P: 2e+07 Pa\n",
      "    flow (kmol/hr): N2  353\n",
      "outs...\n",
      "[0] out  \n",
      "    phase: 'g', T: 280 K, P: 100000 Pa\n",
      "    flow (kmol/hr): N2  353\n",
      "[1] flash_liquid  \n",
      "    phase: 'l', T: 280 K, P: 100000 Pa\n",
      "    flow: 0\n",
      "\n",
      "Results with excess free energies\n",
      "------------------------------------\n",
      "System: N2_liquefaction\n",
      "Highest convergence error among components in recycle\n",
      "stream flash-0 after 11 loops:\n",
      "- flow rate   1.71e-13 kmol/hr (0%)\n",
      "- temperature 0.00e+00 K (0%)\n",
      "ins...\n",
      "[0] inlet  \n",
      "    phase: 'g', T: 280 K, P: 2e+07 Pa\n",
      "    flow (kmol/hr): N2  353\n",
      "outs...\n",
      "[0] out  \n",
      "    phase: 'g', T: 270.45 K, P: 100000 Pa\n",
      "    flow (kmol/hr): N2  325\n",
      "[1] flash_liquid  \n",
      "    phase: 'l', T: 77.244 K, P: 100000 Pa\n",
      "    flow (kmol/hr): N2  28.2\n"
     ]
    }
   ],
   "source": [
    "import biosteam as bst\n",
    "bst.main_flowsheet.clear()\n",
    "\n",
    "# Setup thermodynamic backend\n",
    "N2 = bst.Chemical('N2')\n",
    "bst.settings.set_thermo([N2])\n",
    "\n",
    "# Heat integration between inlet and recycle\n",
    "inlet = bst.Stream(\"inlet\", N2=2.75, units=\"kg/s\", T=6.85+273.15, P=200e5, phase=\"g\")\n",
    "flash_gas = bst.Stream(\"flash_gas\")\n",
    "regenerator = bst.units.HXprocess(\"regenerator\", ins=(inlet, flash_gas), outs=(\"throttle_in\", 'out'), dT=9.55)\n",
    "throttle_in = regenerator.outs[0]\n",
    "\n",
    "# Throttling\n",
    "valve = bst.units.IsenthalpicValve(\"expansion\", ins=throttle_in, outs=\"valve_out\", P=1e5, vle=True)\n",
    "valve_out = valve.outs[0]\n",
    "\n",
    "# Flash drum\n",
    "flash = bst.units.Flash(\"flash\", ins=valve_out, outs=(flash_gas, \"flash_liquid\"), Q=0, P=1e5)\n",
    "\n",
    "# Connect flash gas to regenerator\n",
    "regenerator.ins[1] = flash.vapor\n",
    "\n",
    "sys = bst.main_flowsheet.create_system('N2_liquefaction')\n",
    "sys.set_tolerance(mol=1e-9, rmol=1e-9, T=1e-5, rT=1e-5)\n",
    "bst.settings.mixture.include_excess_energies = False\n",
    "sys.simulate()\n",
    "sys.diagram()\n",
    "print('Results without excess free energies')\n",
    "print('------------------------------------')\n",
    "sys.show()\n",
    "print()\n",
    "print('Results with excess free energies')\n",
    "print('------------------------------------')\n",
    "sys.reset_cache() # Resets cached chemical/mixture properties\n",
    "bst.settings.mixture.include_excess_energies = True\n",
    "sys.empty_recycles()\n",
    "sys.simulate()\n",
    "sys.show()"
   ]
  },
  {
   "cell_type": "markdown",
   "metadata": {},
   "source": [
    "At times, a process specification might involve having to rerun upstream unit operations. In such cases, it may be easier to set the system to run more than once than to code-in the simulation of upstream units. For demonstration purposes, let’s specify a mixer’s product flow rate of water to be constant by varying one of the feeds:"
   ]
  },
  {
   "cell_type": "code",
   "execution_count": 4,
   "metadata": {},
   "outputs": [
    {
     "name": "stdout",
     "output_type": "stream",
     "text": [
      "HXutility: heat_exchanger\n",
      "ins...\n",
      "[0] feed_a  \n",
      "    phase: 'l', T: 298.15 K, P: 101325 Pa\n",
      "    flow (kmol/hr): Water  9.99e+05\n",
      "outs...\n",
      "[0] s1  to  Mixer-mixer\n",
      "    phase: 'l', T: 298.15 K, P: 101325 Pa\n",
      "    flow: 0\n"
     ]
    }
   ],
   "source": [
    "bst.main_flowsheet.clear()\n",
    "bst.settings.set_thermo(['Water'])\n",
    "feed_a = bst.Stream('feed_a')\n",
    "heat_exchanger = bst.HXutility('heat_exchanger', feed_a, T=320, rigorous=True)\n",
    "feed_b = bst.Stream('feed_b', Water=1e3)\n",
    "mixer = bst.Mixer('mixer', [heat_exchanger-0, feed_b])\n",
    "mixer_product_flow_specification = 1e6 # kmol/hr\n",
    "@mixer.add_specification\n",
    "def adjust_fresh_flow():\n",
    "    # Updates the feed, but doesn't run the upstream heat exchanger.\n",
    "    # A good solution would be to also run the heat exchanger, but here\n",
    "    # we do not for demonstration purposes\n",
    "    feed_a.imol['Water'] = mixer_product_flow_specification - feed_b.imol['Water']\n",
    "    mixer.run()\n",
    "\n",
    "sys = bst.main_flowsheet.create_system('sys')\n",
    "sys.simulate()\n",
    "heat_exchanger.show()"
   ]
  },
  {
   "cell_type": "markdown",
   "metadata": {},
   "source": [
    "Although we changed the feed upstream of the heat exchanger, notice how we will need to rerun the heat exchanger. We can do this by setting the number of times a system runs using N_runs:"
   ]
  },
  {
   "cell_type": "code",
   "execution_count": 6,
   "metadata": {},
   "outputs": [
    {
     "name": "stdout",
     "output_type": "stream",
     "text": [
      "HXutility: heat_exchanger\n",
      "ins...\n",
      "[0] feed_a  \n",
      "    phase: 'l', T: 298.15 K, P: 101325 Pa\n",
      "    flow (kmol/hr): Water  9.99e+05\n",
      "outs...\n",
      "[0] s1  to  Mixer-mixer\n",
      "    phases: ('g', 'l'), T: 320 K, P: 101325 Pa\n",
      "    flow (kmol/hr): (l) Water  9.99e+05\n"
     ]
    }
   ],
   "source": [
    "#In general, depending on N_runs is not recommended, but it may be useful when dealing with complex process specifications.\n",
    "sys.N_runs = 2 # Run twice in simulate method\n",
    "sys.empty_recycles()\n",
    "sys.simulate()\n",
    "heat_exchanger.show()"
   ]
  },
  {
   "cell_type": "code",
   "execution_count": null,
   "metadata": {},
   "outputs": [],
   "source": [
    "## 6.2. Phase equilibrium and energy balance\n",
    "### 6.2.1. Adjusting convergence criteria"
   ]
  }
 ],
 "metadata": {
  "kernelspec": {
   "display_name": "biosteam",
   "language": "python",
   "name": "python3"
  },
  "language_info": {
   "codemirror_mode": {
    "name": "ipython",
    "version": 3
   },
   "file_extension": ".py",
   "mimetype": "text/x-python",
   "name": "python",
   "nbconvert_exporter": "python",
   "pygments_lexer": "ipython3",
   "version": "3.10.12"
  }
 },
 "nbformat": 4,
 "nbformat_minor": 2
}
