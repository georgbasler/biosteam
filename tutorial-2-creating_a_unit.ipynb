{
 "cells": [
  {
   "cell_type": "markdown",
   "metadata": {},
   "source": [
    "# BioSTEAM User Guide Tutorial - Beginner's Guide\n",
    "this runs in Ubuntu 22.04.2 LTS on WSL2, Python 3.10.12\\\n",
    "install BioSTEAM with 'pip install biosteam'\\\n",
    "see https://biosteam.readthedocs.io/en/latest/tutorial/index.html\n",
    "\n",
    "## 2. Creating a Unit\n",
    "A Unit object is initialized with an ID, and unit-specific arguments"
   ]
  },
  {
   "cell_type": "code",
   "execution_count": 1,
   "metadata": {},
   "outputs": [],
   "source": [
    "from biosteam import Unit, Stream, settings, main_flowsheet\n",
    "import biosteam as bst\n",
    "bst.nbtutorial() # Light-mode html diagrams and filter warnings\n",
    "settings.set_thermo(['Water', 'Methanol'])\n",
    "\n",
    "\n",
    "\n"
   ]
  },
  {
   "cell_type": "code",
   "execution_count": null,
   "metadata": {},
   "outputs": [],
   "source": [
    "# Initialize a Unit object with an ID, ins streams, and outs streams.\n",
    "# Either an iterable of Stream objects, or a Stream object may work for ins and outs:\n",
    "ins = Stream('in0')\n",
    "outs = [Stream('out0')]\n",
    "U1 = Unit(ID='U1', ins=ins, outs=outs)\n",
    "U1.show(data=False) # Passing data as False returns only stream names\n",
    "# IDs for Stream objects can also be used instead:\n",
    "U2 = Unit('U2', ins='', outs=['']) # Empty strings default unused IDs\n",
    "U2.show(data=False)\n",
    "U1.diagram()"
   ]
  },
  {
   "cell_type": "markdown",
   "metadata": {},
   "source": [
    "By default, a unique ID is chosen, missing streams are given to ins, and empty streams to outs:"
   ]
  },
  {
   "cell_type": "markdown",
   "metadata": {},
   "source": [
    "unit = Unit()\n",
    "unit.show(data=False)"
   ]
  },
  {
   "cell_type": "markdown",
   "metadata": {},
   "source": [
    "The number of default streams is different for each Unit subclass:"
   ]
  },
  {
   "cell_type": "code",
   "execution_count": 19,
   "metadata": {},
   "outputs": [
    {
     "name": "stdout",
     "output_type": "stream",
     "text": [
      "Mixer: M6\n",
      "ins...\n",
      "[0] missing stream  \n",
      "[1] missing stream  \n",
      "outs...\n",
      "[0] s28  \n"
     ]
    }
   ],
   "source": [
    "from biosteam import Mixer, Splitter\n",
    "Mixer().show(data=False)\n",
    "Splitter(split=0.5).show(data=False)\n"
   ]
  },
  {
   "cell_type": "code",
   "execution_count": null,
   "metadata": {},
   "outputs": [],
   "source": []
  }
 ],
 "metadata": {
  "kernelspec": {
   "display_name": "Python 3",
   "language": "python",
   "name": "python3"
  },
  "language_info": {
   "codemirror_mode": {
    "name": "ipython",
    "version": 3
   },
   "file_extension": ".py",
   "mimetype": "text/x-python",
   "name": "python",
   "nbconvert_exporter": "python",
   "pygments_lexer": "ipython3",
   "version": "3.10.12"
  },
  "orig_nbformat": 4
 },
 "nbformat": 4,
 "nbformat_minor": 2
}
